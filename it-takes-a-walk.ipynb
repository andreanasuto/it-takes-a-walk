{
 "cells": [
  {
   "cell_type": "markdown",
   "metadata": {},
   "source": [
    "# 'It takes a walk to be stopped and searched'"
   ]
  },
  {
   "cell_type": "markdown",
   "metadata": {},
   "source": [
    "#### A research project on the impact of the 'Stop and Search' Police policy in Liverpool"
   ]
  },
  {
   "cell_type": "markdown",
   "metadata": {},
   "source": [
    "# Part I"
   ]
  },
  {
   "cell_type": "markdown",
   "metadata": {},
   "source": [
    "## The story"
   ]
  },
  {
   "cell_type": "markdown",
   "metadata": {},
   "source": [
    "The modern history of Liverpool is both intertwined with ethnic diversity, the \"Harlem of Europe\", and policy brutality on minorities, Toxteth Riots in 1981 (Moody, 2020). Section 60 is a controversial policy that allows UK police to stop and search a person without reasonable ground. Currently, black people are 9 times more likely to be stopped and searched (Home Office, 2021).\n",
    "The map shows the locations of the Stop and Search (S&S) activities run by the Police in Liverpool in 2020, a further focus is on Black citizens, specificaly in the age 18-24. The S&S dataset is retrieved through the UK Police API, selecting an arbitrary polygon around the Liverpool city center. A month-by-month query is done and the results are combined into a single ‘2020’ geodataframe.\n",
    "Through the CDRC dataset on Liverpool from the 2011 Census, two main variables are shown: the Index of Multiple Deprivation (IMD) and the Black residents in the area at the LSOA level.\n",
    "Seven datasets are displayed across different zoom levels with two different basemap. The general idea is to start from a wider point of view on the phenomenon (all the S&S activities in 2020) and narrow the focus on a smaller subset of data and areas accordingly to the zoom levels. A standard Open Street Map basemap is chosen to enhance the city's topography. \n",
    "All the locations of the S&S activies are plotted to show how they are distributed (1). The IMD score is mapped in 7 classes using a natural break scheme to highlight the higher values (2). Previous studies have shown that there is a positive relationship between more deprived areas with an higher density of S&S activities, but for Black people that's not the case: they are invariably affected (Shiner et al, 2018). The S&S policy seems to disproportionately affect Black citizens in Liverpool. While they represent only 2.6% of Liverpool's total population, they are 5.2% of the total S&S population (Nomis, 2011). This means that a Black resident is two times more likely to get stopped. These data are consistent with previous results across the years (Statewatch, 2002; Equality and Human Right Commission, 2010).\n",
    "The locations of this subset of S&S events are plotted (3) together with a distribution of the Black residents (4). Since younger black citizens (age 18-24) account for 40% of the total black people subset (93% male), a kernel density estimate (KDE) of the S&S locations is produced to capture the probability of being stopped by a police officer (5). The KDE together with the residential data may show how the majority of the Police activities on this group happen outside their ethnic communities. Potentially creating a deterrent to visiting more affluent and whiter zones (Shiner et al., 2018). Using Isochrone API from Mapbox, a 5 and 10 minutes walking distance from Liverpool Central (the highest KDE value) is plotted to show a simple walk in the city center might end up in an S&S for a young black male (6). Lastly, the specific locations of the S&S checks on young black people are shown (7). The map switches to the Mapbox Satellite basemap, to display POI (Point of Interest) and the effective urban landscape. The idea is to finally have a realistic ‘street view’ and further suggest research paths (eg. S&S are done nearby schools, stations)."
   ]
  },
  {
   "cell_type": "markdown",
   "metadata": {},
   "source": [
    "## Conceptual background"
   ]
  },
  {
   "cell_type": "markdown",
   "metadata": {},
   "source": [
    "1) An API, or application programming interface, is a system in which a company or institution lets their data and/or functionality accessible to an external person, company or institution. An API works as a machine-to-machine interface in which there is a systematic and programmatic way to access that information, usually a REST-ful framework. This means that there are endpoints that can be accessed. It works as a bridge between the client and the server. An API can have both POST and GET requests, this means that as a programmer, you can send information through the API (eg. programmatically post a Tweet i.e. bot) or you retrieve information (e.g get all Tweets with ‘#webmapping’ hashtag).\n",
    "In this project, the Police API allows to get the Stop and Search data on a polygon around the Liverpool City area and the Isochrone Mapbox API allows to calculate the walking distance areas from a point.\n",
    "\n",
    "2) As in a mosaic, a large map appears as a single one but in reality, is composed of multiple tiles. Each tile has a fixed dimension (Google standard is 256x256). This is especially important in web mapping since a lot of data would be required to retrieve and publish a unique map-image with all the required zoom levels. An additional problem, and advantage for the tile-based maps, is how other data associated with a map (eg. car traffic) would be retrieved and stored. With the tile-based technology, only the tiles at a certain zoom level store certain data, instead of loading all the data regardless of which is the zoom level of the map (eg. all car traffic in the world vs only car traffic along a route). This advantage makes the map even more dynamic since the content associated with a tileset changes accordingly to the zoom level (eg. COVID-19 infections per country versus COVID-19 infections by UK district). However, this could be also a drawback since data are not accessible as a whole.\n",
    "Overall, the tileset technology makes web-mapping more scalable, efficient and accessible across devices but it is not designed to conduct analysis or to be edited (it is hard to edit them once created) but instead to efficiently visualize."
   ]
  },
  {
   "cell_type": "code",
   "execution_count": 2,
   "metadata": {},
   "outputs": [],
   "source": [
    "# Manipulate spatial data\n",
    "import geopandas as gpd\n",
    "# Manipulate json\n",
    "import json\n",
    "# Manipulate dataframe\n",
    "import pandas as pd\n",
    "# Handle API requests\n",
    "import requests\n",
    "# Add basemap to the maps\n",
    "import contextily as cx\n",
    "# Ensure plots renders inside the notebook \n",
    "import matplotlib.pyplot as plt"
   ]
  },
  {
   "cell_type": "markdown",
   "metadata": {},
   "source": [
    "# Part IIA - Extract data from the UK Police API"
   ]
  },
  {
   "cell_type": "code",
   "execution_count": 3,
   "metadata": {},
   "outputs": [
    {
     "data": {
      "text/plain": [
       "{'age_range': 'over 34',\n",
       " 'outcome': 'Arrest',\n",
       " 'involved_person': True,\n",
       " 'self_defined_ethnicity': 'White - English/Welsh/Scottish/Northern Irish/British',\n",
       " 'gender': 'Male',\n",
       " 'legislation': 'Misuse of Drugs Act 1971 (section 23)',\n",
       " 'outcome_linked_to_object_of_search': True,\n",
       " 'datetime': '2020-01-06T10:11:23+00:00',\n",
       " 'removal_of_more_than_outer_clothing': False,\n",
       " 'outcome_object': {'id': 'bu-arrest', 'name': 'Arrest'},\n",
       " 'location': {'latitude': '53.420561',\n",
       "  'street': {'id': 914481, 'name': 'On or near Tamar Close'},\n",
       "  'longitude': '-2.961643'},\n",
       " 'operation': None,\n",
       " 'officer_defined_ethnicity': 'White',\n",
       " 'type': 'Person search',\n",
       " 'operation_name': None,\n",
       " 'object_of_search': 'Controlled drugs'}"
      ]
     },
     "execution_count": 3,
     "metadata": {},
     "output_type": "execute_result"
    }
   ],
   "source": [
    "# poly format [lat],[lng]:[lat],[lng]:[lat],[lng]\n",
    "# define the geographical boundaries of the selected area\n",
    "poly = '53.44389944710078, -3.01025390625:' + '53.40461992848442,-2.9999542236328125:' + '53.366942995161345, -2.967681884765625:' + '53.37800381298034, -2.912750244140625:' + '53.4230367215282,-2.9196166992187496:' + '53.44676215918743,-2.973175048828125:' + '53.44489944710078,-3.012025390625'\n",
    "# Police API endpoint\n",
    "url = f'https://data.police.uk/api/stops-street?poly={poly}&date=2020-01'\n",
    "# Send GET request to the url\n",
    "r = requests.get(url)\n",
    "# Handle json data from the GET response\n",
    "ss = json.loads(r.content)\n",
    "# Plot first element in the Stop & Search content\n",
    "ss[0]"
   ]
  },
  {
   "cell_type": "code",
   "execution_count": 4,
   "metadata": {},
   "outputs": [],
   "source": [
    "# built function to systematically parse a single S&S event\n",
    "def parse_ss_event(cr):\n",
    "    # create a panda series with the selected keys and content\n",
    "    cr_parsed = pd.Series({\n",
    "           'age_range': cr['age_range'],\\\n",
    "           'outcome': cr['outcome'],\\\n",
    "           'involed_person': cr['involved_person'],\\\n",
    "           'gender': cr['gender'],\\\n",
    "           'self_defined_ethnicity': cr['self_defined_ethnicity'],\\\n",
    "           'street_id': cr['location']['street']['id'],\\\n",
    "           'longitude': float(cr['location']['longitude']), \\\n",
    "           'latitude': float(cr['location']['latitude']), \\\n",
    "           'date': cr['datetime'], \\\n",
    "           'officer_ethnicity': cr['officer_defined_ethnicity']\n",
    "                     })\n",
    "    return cr_parsed"
   ]
  },
  {
   "cell_type": "code",
   "execution_count": 5,
   "metadata": {},
   "outputs": [],
   "source": [
    "# create a function to \n",
    "def parsing(stop_and_search):\n",
    "    # Start an empty list to store parsed crimes dynamically\n",
    "    parsed = []\n",
    "\n",
    "    # Loop over each crime event in the list of crimes\n",
    "    for cr in stop_and_search:\n",
    "        # Parse a single crime\n",
    "        pc = parse_ss_event(cr)\n",
    "        # Store the parsed crime into the list created\n",
    "        parsed.append(pc)\n",
    "\n",
    "    # Convert the list into a DataFrame\n",
    "    parsed = pd.DataFrame(parsed)\n",
    "    return parsed"
   ]
  },
  {
   "cell_type": "code",
   "execution_count": 6,
   "metadata": {},
   "outputs": [],
   "source": [
    "# create a function to get data from a month in a year\n",
    "def get_month_crime(month,year):\n",
    "    # Police API endpoint\n",
    "    url = f'https://data.police.uk/api/stops-street?poly={poly}&date={year}-{month}'\n",
    "    # Send GET request\n",
    "    r = requests.get(url)\n",
    "    # Load monthly crimes in json\n",
    "    mcrimes = json.loads(r.content)\n",
    "    # Parse json and store it in a variable\n",
    "    month_db = parsing(mcrimes)\n",
    "    # Return the newly created variable\n",
    "    return month_db"
   ]
  },
  {
   "cell_type": "code",
   "execution_count": 7,
   "metadata": {},
   "outputs": [],
   "source": [
    "# create a DataFrame concatenating each month result\n",
    "yearly_crimes_20 = pd.concat([get_month_crime('01','2020'), \n",
    "                get_month_crime('02','2020'), \n",
    "                get_month_crime('03','2020'),\n",
    "                get_month_crime('04','2020'),\n",
    "                get_month_crime('05','2020'),\n",
    "                get_month_crime('06','2020'),\n",
    "                get_month_crime('07','2020'),\n",
    "                get_month_crime('08','2020'),\n",
    "                get_month_crime('09','2020'),\n",
    "                get_month_crime('10','2020'),\n",
    "                get_month_crime('11','2020'),\n",
    "                get_month_crime('12','2020'),\n",
    "               ])"
   ]
  },
  {
   "cell_type": "code",
   "execution_count": null,
   "metadata": {},
   "outputs": [],
   "source": [
    "# create Geopandas points from the Stop and Search events coordinates\n",
    "points = gpd.points_from_xy(yearly_crimes_20[\"longitude\"],\n",
    "                                  yearly_crimes_20[\"latitude\"]\n",
    "                                 )\n",
    "# create Geopandas dataframe with the points geometry and the S&S 2020 dataset.\n",
    "crimes_geodf_20 = gpd.GeoDataFrame(yearly_crimes_20,\n",
    "                                geometry=points,\n",
    "                                # set CRS to ESPG 27700  \n",
    "                                crs=\"EPSG:27700\"\n",
    "                               )"
   ]
  },
  {
   "cell_type": "code",
   "execution_count": null,
   "metadata": {},
   "outputs": [],
   "source": [
    "# Show S&S 2020 geodataframe\n",
    "crimes_geodf_20"
   ]
  },
  {
   "cell_type": "code",
   "execution_count": null,
   "metadata": {},
   "outputs": [],
   "source": [
    "# Create a subset of the total S&S dataset about the citizens stopped with a self defined Black identity\n",
    "black = crimes_geodf_20[crimes_geodf_20['self_defined_ethnicity'].str.contains('Black', na=False)]"
   ]
  },
  {
   "cell_type": "code",
   "execution_count": null,
   "metadata": {},
   "outputs": [],
   "source": [
    "# Create a subset of the total S&S dataset about the citizens stopped with a self defined White identity\n",
    "white = crimes_geodf_20[crimes_geodf_20['self_defined_ethnicity'].str.contains('White', na=False)]"
   ]
  },
  {
   "cell_type": "code",
   "execution_count": null,
   "metadata": {},
   "outputs": [],
   "source": [
    "# Percentange of black people stopped and searched out of the total S&S in 2020\n",
    "bk_percentage = (len(black)/ len(crimes_geodf_20))\n",
    "bk_percentage"
   ]
  },
  {
   "cell_type": "code",
   "execution_count": null,
   "metadata": {},
   "outputs": [],
   "source": [
    "# Percentange of white people stopped and searched out of the total S&S in 2020\n",
    "wh_percentage = (len(white)/ len(crimes_geodf_20))\n",
    "wh_percentage"
   ]
  },
  {
   "cell_type": "code",
   "execution_count": null,
   "metadata": {},
   "outputs": [],
   "source": [
    "# Overepresentation of Black people in S&S out of the total resident population in Liverpool (2.6% are Black)\n",
    "bk_percentage / 0.026"
   ]
  },
  {
   "cell_type": "code",
   "execution_count": null,
   "metadata": {},
   "outputs": [],
   "source": [
    "# Underepresentation of White people in S&S (88.9% are White)"
   ]
  },
  {
   "cell_type": "code",
   "execution_count": 39,
   "metadata": {},
   "outputs": [
    {
     "data": {
      "text/plain": [
       "0.8545256004650322"
      ]
     },
     "execution_count": 39,
     "metadata": {},
     "output_type": "execute_result"
    }
   ],
   "source": [
    "wh_percentage / 0.889"
   ]
  },
  {
   "cell_type": "code",
   "execution_count": 40,
   "metadata": {},
   "outputs": [
    {
     "data": {
      "text/plain": [
       "3.0273972602739727"
      ]
     },
     "execution_count": 40,
     "metadata": {},
     "output_type": "execute_result"
    }
   ],
   "source": [
    "# Average per day black people stopped and searched\n",
    "len(black)/365"
   ]
  },
  {
   "cell_type": "code",
   "execution_count": 41,
   "metadata": {},
   "outputs": [],
   "source": [
    "# Total Black citizens 18-24 stopped for a Stop and Search in 2020\n",
    "black_youth = black[black['age_range'].str.contains('18-24', na=False)]"
   ]
  },
  {
   "cell_type": "code",
   "execution_count": 42,
   "metadata": {},
   "outputs": [
    {
     "data": {
      "text/plain": [
       "39.547511312217196"
      ]
     },
     "execution_count": 42,
     "metadata": {},
     "output_type": "execute_result"
    }
   ],
   "source": [
    "# Percentage of black youth out of the total S&S\n",
    "(len(black_youth)/len(black))*100"
   ]
  },
  {
   "cell_type": "code",
   "execution_count": 43,
   "metadata": {},
   "outputs": [],
   "source": [
    "# Total males out of the Black Youth subset\n",
    "bk_youth_sex = black_youth[black_youth['gender'].str.contains('Male', na=False)]"
   ]
  },
  {
   "cell_type": "code",
   "execution_count": 44,
   "metadata": {},
   "outputs": [
    {
     "data": {
      "text/plain": [
       "0.9336384439359268"
      ]
     },
     "execution_count": 44,
     "metadata": {},
     "output_type": "execute_result"
    }
   ],
   "source": [
    "# Percentage of the black youth males out of the total black youth dataset\n",
    "len(bk_youth_sex)/len(black_youth)"
   ]
  },
  {
   "cell_type": "code",
   "execution_count": 45,
   "metadata": {},
   "outputs": [
    {
     "data": {
      "text/plain": [
       "0.06629247572815535"
      ]
     },
     "execution_count": 45,
     "metadata": {},
     "output_type": "execute_result"
    }
   ],
   "source": [
    "# Percentage of black male citizens between 18-24 stopped and searched over the total black 18-24 population (6592, Nomis 2011)\n",
    "bk_youth_percentage = (len(black_youth)/6592)\n",
    "bk_youth_percentage"
   ]
  },
  {
   "cell_type": "code",
   "execution_count": 46,
   "metadata": {},
   "outputs": [],
   "source": [
    "# Total White citizens under 24 stopped for a Stop and Search in 2020\n",
    "white_youth = white[white['age_range'].str.contains('18-24', na=False)]"
   ]
  },
  {
   "cell_type": "code",
   "execution_count": 47,
   "metadata": {},
   "outputs": [
    {
     "data": {
      "text/plain": [
       "2.6685559680859465"
      ]
     },
     "execution_count": 47,
     "metadata": {},
     "output_type": "execute_result"
    }
   ],
   "source": [
    "# Percentage of white male citizens between 18-24 stopped and searched over the total white 18-24 population (202544)\n",
    "wh_youth_percentage = (len(white_youth)/202544)*100\n",
    "wh_youth_percentage"
   ]
  },
  {
   "cell_type": "code",
   "execution_count": 48,
   "metadata": {},
   "outputs": [
    {
     "data": {
      "text/plain": [
       "0.0248420780830407"
      ]
     },
     "execution_count": 48,
     "metadata": {},
     "output_type": "execute_result"
    }
   ],
   "source": [
    "# Difference in chances of being stopped if you are black vs white youth\n",
    "bk_youth_percentage/wh_youth_percentage"
   ]
  },
  {
   "cell_type": "code",
   "execution_count": 49,
   "metadata": {},
   "outputs": [
    {
     "data": {
      "text/plain": [
       "1515"
      ]
     },
     "execution_count": 49,
     "metadata": {},
     "output_type": "execute_result"
    }
   ],
   "source": [
    "# Define dataframe with all the citizens arrested after a S&S\n",
    "arrested = crimes_geodf_20[crimes_geodf_20['outcome'].str.contains('Arrest', na=False)]\n",
    "# Return total citizens arrested count\n",
    "len(arrested)"
   ]
  },
  {
   "cell_type": "code",
   "execution_count": 50,
   "metadata": {},
   "outputs": [
    {
     "data": {
      "text/plain": [
       "89"
      ]
     },
     "execution_count": 50,
     "metadata": {},
     "output_type": "execute_result"
    }
   ],
   "source": [
    "# Define dataframe with all the Black citizens arrested after a S&S\n",
    "bk_arrested = crimes_geodf_20[crimes_geodf_20['self_defined_ethnicity'].str.contains('Black', na=False) & crimes_geodf_20['outcome'].str.contains('Arrest', na=False)]\n",
    "# Return total Black citizens arrested count\n",
    "len(bk_arrested)"
   ]
  },
  {
   "cell_type": "code",
   "execution_count": 51,
   "metadata": {},
   "outputs": [
    {
     "data": {
      "text/plain": [
       "1177"
      ]
     },
     "execution_count": 51,
     "metadata": {},
     "output_type": "execute_result"
    }
   ],
   "source": [
    "# Define dataframe with all the White citizens arrested after a S&S\n",
    "wh_arrested = crimes_geodf_20[crimes_geodf_20['self_defined_ethnicity'].str.contains('White', na=False) & crimes_geodf_20['outcome'].str.contains('Arrest', na=False)]\n",
    "# Return total White citizens arrested count\n",
    "len(wh_arrested)"
   ]
  },
  {
   "cell_type": "code",
   "execution_count": 52,
   "metadata": {},
   "outputs": [
    {
     "data": {
      "text/plain": [
       "8.054298642533936"
      ]
     },
     "execution_count": 52,
     "metadata": {},
     "output_type": "execute_result"
    }
   ],
   "source": [
    "# Percentage of Stop and Search that led to an arrest in 2020\n",
    "(len(bk_arrested)/len(black))*100 # Black"
   ]
  },
  {
   "cell_type": "code",
   "execution_count": 53,
   "metadata": {},
   "outputs": [
    {
     "data": {
      "text/plain": [
       "7.40111928566937"
      ]
     },
     "execution_count": 53,
     "metadata": {},
     "output_type": "execute_result"
    }
   ],
   "source": [
    "# Percentage of Stop and Search that led to an arrest in 2020\n",
    "(len(wh_arrested)/len(white))*100 # White"
   ]
  },
  {
   "cell_type": "code",
   "execution_count": 54,
   "metadata": {},
   "outputs": [
    {
     "data": {
      "text/plain": [
       "91.49321266968326"
      ]
     },
     "execution_count": 54,
     "metadata": {},
     "output_type": "execute_result"
    }
   ],
   "source": [
    "# Percentage of Stop and Search led by Black officers to Black citizens in 2020\n",
    "# Identify black stopped by black officers\n",
    "b_2_b = crimes_geodf_20[crimes_geodf_20['officer_ethnicity'].str.contains('Black', na=False) & crimes_geodf_20['self_defined_ethnicity'].str.contains('Black', na=False)]\n",
    "\n",
    "# Calculate percentage\n",
    "(len(b_2_b)/len(black))*100"
   ]
  },
  {
   "cell_type": "code",
   "execution_count": 55,
   "metadata": {},
   "outputs": [],
   "source": [
    "# Export as Geodatapack the total S&S Police activities in 2020\n",
    "crimes_geodf_20.to_file(\"./outputs/crimes_20.gpkg\", driver=\"GPKG\")"
   ]
  },
  {
   "cell_type": "code",
   "execution_count": 56,
   "metadata": {},
   "outputs": [],
   "source": [
    "# Export as Geodatapack the total S&S Police activities in 2020 involving self declared Black citizens\n",
    "black.to_file(\"./outputs/black_20.gpkg\", driver=\"GPKG\")\n",
    "# Export as Geodatapack the total S&S Police activities in 2020 involving self declared White citizens\n",
    "white.to_file(\"./outputs/white_20.gpkg\", driver=\"GPKG\")"
   ]
  },
  {
   "cell_type": "code",
   "execution_count": 57,
   "metadata": {},
   "outputs": [],
   "source": [
    "# Export as Geodatapack the total S&S Police activities in 2020 involving Black young citizens (age 18-24)\n",
    "black_youth.to_file(\"./outputs/black_youth_20.gpkg\", driver=\"GPKG\")"
   ]
  },
  {
   "cell_type": "code",
   "execution_count": 58,
   "metadata": {},
   "outputs": [],
   "source": [
    "# Export as Geodatapack the total S&S Police activities in 2020 involving White young citizens (age 18-24)\n",
    "white_youth.to_file(\"./outputs/white_youth_20.gpkg\", driver=\"GPKG\")"
   ]
  },
  {
   "cell_type": "markdown",
   "metadata": {},
   "source": [
    "## Part IIB - Extract Walking distance around highest value of the KDE"
   ]
  },
  {
   "cell_type": "code",
   "execution_count": 59,
   "metadata": {},
   "outputs": [],
   "source": [
    "# Get Longitude and Latitude from Liverpool Central (highest KDE value area)\n",
    "latitude = '53.404856'\n",
    "longitude = '-2.982918'"
   ]
  },
  {
   "cell_type": "code",
   "execution_count": 1,
   "metadata": {},
   "outputs": [],
   "source": [
    "# Define public Mapbox token\n",
    "TOKEN = 'mapbox_public_token'"
   ]
  },
  {
   "cell_type": "code",
   "execution_count": 67,
   "metadata": {},
   "outputs": [],
   "source": [
    "# Get endpoint for the area reachable in 5 and 10 minutes walking distance\n",
    "url_iso = 'https://api.mapbox.com/isochrone/v1/mapbox/walking/' + longitude + ',' + latitude + '?contours_minutes=5,10&contours_colors=6706ce,04e813&polygons=true&access_token=' + TOKEN"
   ]
  },
  {
   "cell_type": "code",
   "execution_count": 68,
   "metadata": {},
   "outputs": [],
   "source": [
    "# Retrive content\n",
    "r = requests.get(url_iso)"
   ]
  },
  {
   "cell_type": "code",
   "execution_count": 69,
   "metadata": {},
   "outputs": [
    {
     "data": {
      "text/plain": [
       "{'features': [{'properties': {'fill': '#04e813',\n",
       "    'fillOpacity': 0.33,\n",
       "    'fill-opacity': 0.33,\n",
       "    'fillColor': '#04e813',\n",
       "    'color': '#04e813',\n",
       "    'contour': 10,\n",
       "    'opacity': 0.33,\n",
       "    'metric': 'time'},\n",
       "   'geometry': {'coordinates': [[[-2.978886, 53.409888],\n",
       "      [-2.975918, 53.408865],\n",
       "      [-2.974918, 53.409182],\n",
       "      [-2.973336, 53.408856],\n",
       "      [-2.972172, 53.407856],\n",
       "      [-2.971969, 53.406856],\n",
       "      [-2.97068, 53.405856],\n",
       "      [-2.97165, 53.404856],\n",
       "      [-2.971143, 53.403856],\n",
       "      [-2.972649, 53.402856],\n",
       "      [-2.972188, 53.401856],\n",
       "      [-2.973918, 53.400065],\n",
       "      [-2.975918, 53.399147],\n",
       "      [-2.977918, 53.399598],\n",
       "      [-2.983918, 53.39852],\n",
       "      [-2.986918, 53.398461],\n",
       "      [-2.989608, 53.399856],\n",
       "      [-2.98975, 53.401024],\n",
       "      [-2.990918, 53.400963],\n",
       "      [-2.992679, 53.401856],\n",
       "      [-2.992338, 53.402856],\n",
       "      [-2.993605, 53.404856],\n",
       "      [-2.99281, 53.406856],\n",
       "      [-2.990744, 53.408856],\n",
       "      [-2.988103, 53.410041],\n",
       "      [-2.984079, 53.410017],\n",
       "      [-2.982918, 53.410703],\n",
       "      [-2.978886, 53.409888]]],\n",
       "    'type': 'Polygon'},\n",
       "   'type': 'Feature'},\n",
       "  {'properties': {'fill': '#6706ce',\n",
       "    'fillOpacity': 0.33,\n",
       "    'fill-opacity': 0.33,\n",
       "    'fillColor': '#6706ce',\n",
       "    'color': '#6706ce',\n",
       "    'contour': 5,\n",
       "    'opacity': 0.33,\n",
       "    'metric': 'time'},\n",
       "   'geometry': {'coordinates': [[[-2.981696, 53.407078],\n",
       "      [-2.981197, 53.406577],\n",
       "      [-2.97991, 53.406848],\n",
       "      [-2.977072, 53.405856],\n",
       "      [-2.976778, 53.404856],\n",
       "      [-2.97777, 53.403856],\n",
       "      [-2.977666, 53.402604],\n",
       "      [-2.979805, 53.401856],\n",
       "      [-2.980918, 53.402198],\n",
       "      [-2.983918, 53.401447],\n",
       "      [-2.985918, 53.401583],\n",
       "      [-2.987925, 53.402856],\n",
       "      [-2.988279, 53.404856],\n",
       "      [-2.987275, 53.406213],\n",
       "      [-2.982918, 53.407705],\n",
       "      [-2.981696, 53.407078]]],\n",
       "    'type': 'Polygon'},\n",
       "   'type': 'Feature'}],\n",
       " 'type': 'FeatureCollection'}"
      ]
     },
     "execution_count": 69,
     "metadata": {},
     "output_type": "execute_result"
    }
   ],
   "source": [
    "# Load content\n",
    "walk = json.loads(r.content)\n",
    "walk"
   ]
  },
  {
   "cell_type": "code",
   "execution_count": 71,
   "metadata": {},
   "outputs": [],
   "source": [
    "# Split Polygons based on walking distance\n",
    "walk_5 = walk['features'][0]\n",
    "walk_10 = walk['features'][1]"
   ]
  },
  {
   "cell_type": "code",
   "execution_count": null,
   "metadata": {},
   "outputs": [],
   "source": [
    "# Create Geopandas\n",
    "walk_5 = gpd.GeoDataFrame.from_features([walk_5], crs=\"EPSG:4326\")\n",
    "walk_10 = gpd.GeoDataFrame.from_features([walk_10], crs=\"EPSG:4326\")"
   ]
  },
  {
   "cell_type": "code",
   "execution_count": 80,
   "metadata": {},
   "outputs": [],
   "source": [
    "# Export as geodatapack the 5 and 10 minutes isochrone area\n",
    "walk_5.to_file(\"./outputs/walk_5.gpkg\", driver=\"GPKG\")\n",
    "walk_10.to_file(\"./outputs/walk_10.gpkg\", driver=\"GPKG\")"
   ]
  },
  {
   "cell_type": "markdown",
   "metadata": {},
   "source": [
    "# Literature"
   ]
  },
  {
   "cell_type": "markdown",
   "metadata": {},
   "source": [
    "+ Equality and Human Right Commission (2010) 'Stop and think. A critical review of the use of stop and search powers in England and Wales' - https://www.equalityhumanrights.com/sites/default/files/ehrc_stop_and_search_report.pdf\n",
    "+ Home Office (2021) - 'Stop and Search' data - Home Office - Stop and Search - https://www.ethnicity-facts-figures.service.gov.uk/crime-justice-and-the-law/policing/stop-and-search/latest\n",
    "+ Moody, J. (2020). Black Liverpool: Living with the Legacy of the Past. In The persistence of memory: Remembering slavery in Liverpool, 'slaving capital of the world' (pp. 65-100). Liverpool: Liverpool University Press. doi:10.2307/j.ctv1675bp5.9\n",
    "+ ONS Census - Ethnicities in Liverpool (2011) https://www.nomisweb.co.uk/reports/localarea?compare=E08000012#section_6_4  \n",
    "+ Shiner, Michael, Carre, Zoe, Delsol, Rebekah and Eastwood, Niamh (2018) The colour of injustice: 'race', drugs and law enforcement in England and Wales. . StopWatch, London, United Kingdom. ISBN 9781999316303\n",
    "+ Statewatch (2002) - 'UK: Ethnic injustice: More black and Asian people are being stopped and searched than ever before' - https://www.statewatch.org/media/documents/news/2004/aug/stop-and-search.pdf"
   ]
  }
 ],
 "metadata": {
  "kernelspec": {
   "display_name": "Python 3",
   "language": "python",
   "name": "python3"
  },
  "language_info": {
   "codemirror_mode": {
    "name": "ipython",
    "version": 3
   },
   "file_extension": ".py",
   "mimetype": "text/x-python",
   "name": "python",
   "nbconvert_exporter": "python",
   "pygments_lexer": "ipython3",
   "version": "3.8.3"
  }
 },
 "nbformat": 4,
 "nbformat_minor": 4
}
